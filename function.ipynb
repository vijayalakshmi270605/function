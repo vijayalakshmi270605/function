{
 "cells": [
  {
   "cell_type": "markdown",
   "id": "0d8ab889",
   "metadata": {},
   "source": [
    "# FUNCTION"
   ]
  },
  {
   "cell_type": "code",
   "execution_count": 1,
   "id": "82e2c0b4",
   "metadata": {},
   "outputs": [],
   "source": [
    "#def <function_name>(parameters):\n",
    "    #doc string\n",
    "    #<statement(S)"
   ]
  },
  {
   "cell_type": "code",
   "execution_count": 6,
   "id": "d23da642",
   "metadata": {},
   "outputs": [],
   "source": [
    "def Add(a,b,e):\n",
    "    c=a+b\n",
    "    return c"
   ]
  },
  {
   "cell_type": "code",
   "execution_count": 9,
   "id": "4c5206ff",
   "metadata": {},
   "outputs": [
    {
     "data": {
      "text/plain": [
       "12"
      ]
     },
     "execution_count": 9,
     "metadata": {},
     "output_type": "execute_result"
    }
   ],
   "source": [
    "Add(4,8,5)"
   ]
  },
  {
   "cell_type": "code",
   "execution_count": 12,
   "id": "b2cabe12",
   "metadata": {},
   "outputs": [],
   "source": [
    "def prac():\n",
    "    a=float(input(\"enter a number:\"))\n",
    "    b=float(input(\"enter a number:\"))\n",
    "    c=a/b\n",
    "    return c"
   ]
  },
  {
   "cell_type": "code",
   "execution_count": 13,
   "id": "1fcf3980",
   "metadata": {},
   "outputs": [
    {
     "name": "stdout",
     "output_type": "stream",
     "text": [
      "enter a number:66\n",
      "enter a number:3\n"
     ]
    },
    {
     "data": {
      "text/plain": [
       "22.0"
      ]
     },
     "execution_count": 13,
     "metadata": {},
     "output_type": "execute_result"
    }
   ],
   "source": [
    "prac()"
   ]
  },
  {
   "cell_type": "code",
   "execution_count": 20,
   "id": "647eede0",
   "metadata": {},
   "outputs": [],
   "source": [
    "def bday():\n",
    "    print(\"bday celebration\")\n",
    "    a=str(input(\"enter a 1st event:\"))\n",
    "    b=str(input(\"enter a 2nd event:\"))\n",
    "    "
   ]
  },
  {
   "cell_type": "code",
   "execution_count": 21,
   "id": "a68964c3",
   "metadata": {},
   "outputs": [
    {
     "name": "stdout",
     "output_type": "stream",
     "text": [
      "bday celebration\n",
      "enter a 1st event:welcome speech\n",
      "enter a 2nd event:cake cutting ceremony\n"
     ]
    }
   ],
   "source": [
    "bday()"
   ]
  },
  {
   "cell_type": "code",
   "execution_count": 33,
   "id": "b86dbe03",
   "metadata": {},
   "outputs": [],
   "source": [
    "def eligibility(a):\n",
    "    if a>=18:\n",
    "        print(\"you are eligible for voting\")\n",
    "    else:\n",
    "        print(\"you are not eligible for voting\")"
   ]
  },
  {
   "cell_type": "code",
   "execution_count": 34,
   "id": "59b7c86a",
   "metadata": {},
   "outputs": [
    {
     "name": "stdout",
     "output_type": "stream",
     "text": [
      "you are not eligible for voting\n"
     ]
    }
   ],
   "source": [
    "eligibility(11)"
   ]
  },
  {
   "cell_type": "code",
   "execution_count": null,
   "id": "e7b912f9",
   "metadata": {},
   "outputs": [],
   "source": []
  }
 ],
 "metadata": {
  "kernelspec": {
   "display_name": "Python 3 (ipykernel)",
   "language": "python",
   "name": "python3"
  },
  "language_info": {
   "codemirror_mode": {
    "name": "ipython",
    "version": 3
   },
   "file_extension": ".py",
   "mimetype": "text/x-python",
   "name": "python",
   "nbconvert_exporter": "python",
   "pygments_lexer": "ipython3",
   "version": "3.9.17"
  }
 },
 "nbformat": 4,
 "nbformat_minor": 5
}
